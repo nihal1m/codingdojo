{
 "cells": [
  {
   "cell_type": "code",
   "execution_count": 1,
   "id": "designed-brighton",
   "metadata": {},
   "outputs": [],
   "source": [
    "from hashlib import sha256\n",
    "from time import time\n",
    "import json\n",
    "# import hashlib, time, and json library"
   ]
  },
  {
   "cell_type": "code",
   "execution_count": 2,
   "id": "heavy-europe",
   "metadata": {},
   "outputs": [],
   "source": [
    "\n",
    "class Block:\n",
    "    \"\"\"When a block is added to the chain... it contains the index, prev, transaction, and timestamp.\n",
    "    Structure of blocks \n",
    "    \"\"\"\n",
    "    def __init__(self, index, prev, transaction, timestamp=time()):\n",
    "        self.index = index \n",
    "        self.prev = prev\n",
    "        self.transaction= transaction\n",
    "        self.timestamp = timestamp\n",
    "    \n",
    "    \n",
    "    def hashBlcok(self):\n",
    "        \"\"\"hash the block using the __dict__ in sorting the keys\"\"\"\n",
    "        block = json.dumps(self.__dict__, sort_keys=True)\n",
    "        return(sha256(block.encode()).hexdigest())\n"
   ]
  },
  {
   "cell_type": "code",
   "execution_count": 3,
   "id": "complex-conviction",
   "metadata": {},
   "outputs": [],
   "source": [
    "firstblock = Block(0, 0,{\"sender\":\"x\"})\n",
    "# use the Block class to input the data, so self.index = 0 self.prev = 0,  index, self.transaction = {\"sender\":\"x\"}\n",
    "# remember the Block class also has timestamp=time() which is generating the time each time we run the Block class"
   ]
  },
  {
   "cell_type": "code",
   "execution_count": 4,
   "id": "forced-exchange",
   "metadata": {},
   "outputs": [
    {
     "data": {
      "text/plain": [
       "'7137c80537584c18bfca902652bab16234c5c9f31eb3261220458333be104740'"
      ]
     },
     "execution_count": 4,
     "metadata": {},
     "output_type": "execute_result"
    }
   ],
   "source": [
    "firstblock.hashBlcok()\n",
    "# run the hashBlock function which takes all the inputs on Block by using self.__dict__"
   ]
  },
  {
   "cell_type": "code",
   "execution_count": 15,
   "id": "regional-citizenship",
   "metadata": {},
   "outputs": [],
   "source": [
    "firstblock.h1 = firstblock.hashBlcok()\n",
    "# similar to the above but you add h1 to be included in the Block class structure\n",
    "# so we have self.index and as well as self.h1 "
   ]
  },
  {
   "cell_type": "code",
   "execution_count": 16,
   "id": "injured-microwave",
   "metadata": {},
   "outputs": [
    {
     "data": {
      "text/plain": [
       "'cdaade9a56dce6b49711e266ee983c6999d35f09ce590e273a7ffa6d8ba713a9'"
      ]
     },
     "execution_count": 16,
     "metadata": {},
     "output_type": "execute_result"
    }
   ],
   "source": [
    "firstblock.h1"
   ]
  },
  {
   "cell_type": "code",
   "execution_count": 17,
   "id": "decent-focus",
   "metadata": {},
   "outputs": [
    {
     "data": {
      "text/plain": [
       "0"
      ]
     },
     "execution_count": 17,
     "metadata": {},
     "output_type": "execute_result"
    }
   ],
   "source": [
    "firstblock.index"
   ]
  },
  {
   "cell_type": "code",
   "execution_count": 18,
   "id": "positive-funeral",
   "metadata": {},
   "outputs": [],
   "source": [
    "secondblock = Block(1, firstblock.h1, \"x\")"
   ]
  },
  {
   "cell_type": "code",
   "execution_count": 20,
   "id": "polar-seven",
   "metadata": {},
   "outputs": [],
   "source": [
    "secondblock.h1 = secondblock.hashBlcok()"
   ]
  },
  {
   "cell_type": "code",
   "execution_count": 21,
   "id": "lightweight-albania",
   "metadata": {},
   "outputs": [
    {
     "data": {
      "text/plain": [
       "{'index': 0,\n",
       " 'prev': 0,\n",
       " 'transaction': {'sender': 'x'},\n",
       " 'timestamp': 1612272708.250933,\n",
       " 'h1': 'cdaade9a56dce6b49711e266ee983c6999d35f09ce590e273a7ffa6d8ba713a9'}"
      ]
     },
     "execution_count": 21,
     "metadata": {},
     "output_type": "execute_result"
    }
   ],
   "source": [
    "firstblock.__dict__.copy()\n",
    "#  as you see the output is a dictionary contains the Block class with h1"
   ]
  },
  {
   "cell_type": "code",
   "execution_count": 22,
   "id": "novel-virgin",
   "metadata": {},
   "outputs": [
    {
     "data": {
      "text/plain": [
       "{'index': 1,\n",
       " 'prev': 'cdaade9a56dce6b49711e266ee983c6999d35f09ce590e273a7ffa6d8ba713a9',\n",
       " 'transaction': 'x',\n",
       " 'timestamp': 1612272708.250933,\n",
       " 'h1': '32c230773ff12c0b95561b78682a2669c9a9ad473755076cdaf59678b19f8761'}"
      ]
     },
     "execution_count": 22,
     "metadata": {},
     "output_type": "execute_result"
    }
   ],
   "source": [
    "secondblock.__dict__.copy()"
   ]
  },
  {
   "cell_type": "code",
   "execution_count": 23,
   "id": "designing-native",
   "metadata": {},
   "outputs": [],
   "source": [
    "class Blockchain:\n",
    "    def __init__(self):\n",
    "        self.chain = []\n",
    "        self.unconfirmedTX = []\n",
    "        self.cindex= 0\n",
    "    \n",
    "    def createGenBlcok(self):\n",
    "        genBlock = {\n",
    "            'index': 0,\n",
    "            'prev' : '0',\n",
    "            'transaction' : []\n",
    "        }\n",
    "        \n",
    "        genBlock = Block(genBlock['index'], genBlock['prev'], genBlock['transaction'])\n",
    "        genBlock.hash = genBlock.hashBlcok()\n",
    "        self.chain.append(genBlock)\n",
    "    \n",
    "    \n",
    "    def sendTx(self, sender, receiver, amount):\n",
    "        tx = {\n",
    "            'sender': sender,\n",
    "            'receiver': receiver,\n",
    "            'amount': amount\n",
    "        }\n",
    "        self.unconfirmedTX.append(tx)\n",
    "    \n",
    "    def addBlcok(self, blcok):\n",
    "        prevHash = self.getHashVlaue.hash\n",
    "#         if prevHash != blcok.prev:\n",
    "#             return False\n",
    "        blcok.hash = blcok.hashBlcok()\n",
    "        self.chain.append(blcok)\n",
    "        return True\n",
    "    \n",
    "    @property\n",
    "    def getHashVlaue(self):\n",
    "        if len(self.chain) < 1:\n",
    "            return None\n",
    "        return(self.chain[-1])\n",
    "        \n",
    "    def mining(self):\n",
    "        lastBlock = self.getHashVlaue\n",
    "        \n",
    "        blcok = {\n",
    "            'index': lastBlock.index + 1,\n",
    "            'prev': lastBlock.hash,\n",
    "            'transaction': block.unconfirmedTX\n",
    "        }\n",
    "        newBlcok = Block(blcok['index'], blcok['prev'], blcok['transaction'])\n",
    "        self.addBlcok(newBlcok)\n",
    "        "
   ]
  },
  {
   "cell_type": "code",
   "execution_count": 24,
   "id": "irish-climb",
   "metadata": {},
   "outputs": [],
   "source": [
    "block = Blockchain()"
   ]
  },
  {
   "cell_type": "code",
   "execution_count": 25,
   "id": "abroad-style",
   "metadata": {},
   "outputs": [],
   "source": [
    "block.sendTx(\"Abdu\", \"Adam\", 10)"
   ]
  },
  {
   "cell_type": "code",
   "execution_count": 26,
   "id": "wireless-welcome",
   "metadata": {},
   "outputs": [
    {
     "data": {
      "text/plain": [
       "[{'sender': 'Abdu', 'receiver': 'Adam', 'amount': 10}]"
      ]
     },
     "execution_count": 26,
     "metadata": {},
     "output_type": "execute_result"
    }
   ],
   "source": [
    "block.unconfirmedTX"
   ]
  },
  {
   "cell_type": "code",
   "execution_count": 27,
   "id": "twenty-corner",
   "metadata": {},
   "outputs": [
    {
     "data": {
      "text/plain": [
       "{'sender': 'Abdu', 'receiver': 'Adam', 'amount': 10}"
      ]
     },
     "execution_count": 27,
     "metadata": {},
     "output_type": "execute_result"
    }
   ],
   "source": [
    "block.unconfirmedTX[-1]"
   ]
  },
  {
   "cell_type": "code",
   "execution_count": 28,
   "id": "conscious-token",
   "metadata": {},
   "outputs": [],
   "source": [
    "block.createGenBlcok()"
   ]
  },
  {
   "cell_type": "code",
   "execution_count": 29,
   "id": "martial-technique",
   "metadata": {},
   "outputs": [],
   "source": [
    "block.mining()"
   ]
  },
  {
   "cell_type": "code",
   "execution_count": 30,
   "id": "similar-desert",
   "metadata": {},
   "outputs": [
    {
     "name": "stdout",
     "output_type": "stream",
     "text": [
      "0 0 [] 5958c2806b5ce1ce49b8f1f9dce05f886cb1324e3f661187913b8da16adb8a6d\n",
      "1 5958c2806b5ce1ce49b8f1f9dce05f886cb1324e3f661187913b8da16adb8a6d [{'sender': 'Abdu', 'receiver': 'Adam', 'amount': 10}] 4575ec50970ecc5fa27c48e16502359aaf3ab557f2e786fba2596cb4cffe0a7c\n"
     ]
    }
   ],
   "source": [
    "for i in block.chain:\n",
    "    print(i.index, i.prev, i.transaction, i.hash)"
   ]
  },
  {
   "cell_type": "code",
   "execution_count": 31,
   "id": "chubby-benchmark",
   "metadata": {},
   "outputs": [],
   "source": [
    "import hashlib"
   ]
  },
  {
   "cell_type": "code",
   "execution_count": 32,
   "id": "standing-depth",
   "metadata": {},
   "outputs": [],
   "source": [
    "def hashString(string):\n",
    "    return hashlib.sha256(string).hexdigest()"
   ]
  },
  {
   "cell_type": "code",
   "execution_count": 33,
   "id": "greenhouse-newark",
   "metadata": {},
   "outputs": [],
   "source": [
    "def target(tx):\n",
    "    guess = (str([t for t in tx ]) + str(nonce)).encode()\n",
    "    targetHash = hashString(guess)\n",
    "    print(targetHash)\n",
    "    return targetHash[0:2] == '00'"
   ]
  },
  {
   "cell_type": "code",
   "execution_count": 34,
   "id": "coordinated-amateur",
   "metadata": {},
   "outputs": [],
   "source": [
    "tx = {('sender', '1M7Jie65R12Z1f8zu5EvSzUnneVnNhmuqN'), ('receiver','17s1fkRehntHvfg2q7MzUZJvsLLyQTJYpp'), ('amount', 4)}"
   ]
  },
  {
   "cell_type": "code",
   "execution_count": 35,
   "id": "mineral-carry",
   "metadata": {},
   "outputs": [
    {
     "data": {
      "text/plain": [
       "\"[('amount', 4), ('receiver', '17s1fkRehntHvfg2q7MzUZJvsLLyQTJYpp'), ('sender', '1M7Jie65R12Z1f8zu5EvSzUnneVnNhmuqN')]\""
      ]
     },
     "execution_count": 35,
     "metadata": {},
     "output_type": "execute_result"
    }
   ],
   "source": [
    "str([t for t in tx])"
   ]
  },
  {
   "cell_type": "code",
   "execution_count": 36,
   "id": "generous-freeware",
   "metadata": {},
   "outputs": [
    {
     "name": "stdout",
     "output_type": "stream",
     "text": [
      "93d825464be392d943468b6bb503380db4cb0f9ffdfaf640417556dfc6b4cdf7\n",
      "0a9878df5f8b2a985c1ab97c32411bcb710a43d0ac43855ae0cd40e96cc0d266\n",
      "d8ad41ab423cfd87862b7205b9cbb611794c4f2f5b7355ba94aa22a76a963afe\n",
      "ad89c8abe023cf25abcb15c97a3bb6a51f58dfaed06ccfcafc3831f1835b4a0e\n",
      "5d0b87f877e212740004d626cbed8c591c0043c78003594bd9b0c4482aff597d\n",
      "8650e89e31960110d6fcdda6844e52155d8112a63f3d8ef3e930f6072c3238b8\n",
      "27ef0e16773577eb74b4c90b255330d61a0d0692c11698c38f80d9867d1117a5\n",
      "e118213e38ad80788ef05ca1f9f91c8b25ab0b5a93d93c899472ab08d0e24de1\n",
      "3123a1122ac5c78cab602423af412a84088402815a187009971e48cdebd16ec5\n",
      "d94ccc28ea1b6902c4a5f5ab5858e4443b9440b29a2c70300daac62b70399c3a\n",
      "68f020952b15ba8652123560c2d30d0cb53a73dac23238766ad52f285a5b512f\n",
      "dd6f7e57034758ed8e2feec92672c9e62e76d3a781c9540e5dda642c964e64d6\n",
      "ca557a3b60da43a7375ee62cebbcf571dcf263ca43ba3ba3c781f62b599c9e6e\n",
      "f28160619b10e61f54a6ea2620ee70fd9dd8e616f1e3d4b71b4675199ba1817e\n",
      "27e176a76fc53ca3b14938003f91349234c40d6bfc2e542a927e25cf7ea1366e\n",
      "dbad41a636038bea497cf241fc03771489faa15ddf1fb0cc2eda39da94c1193d\n",
      "9301f97712ebae42bf80d657bf083057a3d4eb1e0b7c4918303c69a5fd8c6588\n",
      "fcf471a89d6f6206cfffd86b29822b69961af8665ff9a840b4358b309e05afee\n",
      "61e48ba83d3bdb139135dce1bb377797e66c97e1867c1451ab3859d986e77e8f\n",
      "abae1647d31610f149bfdb1ffa6ce8ea1b24d578e02d8cd520065b4dda5e9680\n",
      "217bb70cf221656238a0982b6302362aa5aaf9eadad96c93c0cc4e4ddec9e10f\n",
      "167a55321c38dd473c291df5c37a578889b1358c08a8243abde6ec7b65efeafa\n",
      "71dc33b025b6a8713291b84e332dc1d4ee5b96c34e255267519c9179e13856dc\n",
      "30d60fd7522b9f6f34643fe74d5d7f9d40e62eb0a0f81e30070a49fe6e2d9d27\n",
      "2f5f80763c9ac79e9e5a4bc02c4b2eeaf15729a0ee2c789a4daff0c13f215c6f\n",
      "6a88ac83929cf0c9c0ec2b62fd831f48d96d94ae021686f217d50d7bf9cb77f5\n",
      "9d58ee6425c93058ee1cb809b33ed9c7e2529532ddab044fc7243c2b2e421b97\n",
      "eab5b061a2f598c18711c76d837d15015fc158de65b99e077bd350257f7d7c6a\n",
      "0c3c457086409c905291c8b3c2b8660d5e719be6ea50690fc0e5b6c848b4f730\n",
      "c6c88ef16f56097b78d734d344e3c5f99579a713207891738a9491baed101ce4\n",
      "1c8499c393c52b544b9f9e65d68b20fda8f47c11f920b72276861746d620691d\n",
      "2ea413f4a5ec43641d303299987ac37c69fc926649abe6d9f81c328fab029007\n",
      "d44df93280ba58113316563a655c069dad7329f028392accdf200e878410acf4\n",
      "dbe090ca5064d5203b10a11c84f3127ad384d271b323b810b69c9c9514efa297\n",
      "3c1bb642b4c75a5e8f3c672004ffc98e0a353de584dc1f3ae5a696412266de16\n",
      "50f898cb27cde47bc20cfc879a6b2d79b51ef7501b6fb3e263f64dfc1800c0db\n",
      "423e9161abee4c90666b92cb11733b103c64a29813e8eb375a15303255e39e6e\n",
      "56262c563442105a504018053dedc13ada7f87c2339fab1dad2601ec93fa9f97\n",
      "d54345a3c1860a288a7570d3058cf1ca67d4293e13061fcd3dcee79791660c73\n",
      "e88a11aa6069641aa862337004da1778208fa5340ea38daa4de46fef2df8547b\n",
      "302d866453e9a7617152c3ff3f809d9118859eb8f6385fb426691f6dac46970a\n",
      "3f4a8158990c6b9aea96df925b12479dc339893daed416a0bf1a4f13def5fdbe\n",
      "549695b4ba159775da1f4ede52a8b85950dd893d16524d753fdfe4b3c8e9f7f5\n",
      "35581edf992edf5c016d3db4a38aef5ba8d8e42ce888e2f4a76f2251313cefde\n",
      "6277d2f770ccf99d0e1085bb60e1d5fc8c33c0ae67d77e67c58c2921860ed4a8\n",
      "c0b6774aa5c337be5660eda70822d554f90f0390d6c4ddfbd08d50b75875cd80\n",
      "902ed67b0dd83e2cce1ab1eb7b9b7da265b7c231fe7bfcad52d39846a6ee26e8\n",
      "51670802e81963e8e92d7fb3625ad715ba31332f6f3229b1561bf49e63ffd03d\n",
      "3542bf2f52773cd3f8608b5ddbd290998fc30338e14252722a3693c5c44d036b\n",
      "7dbdd4446162ba1d5b45bc3c0c5aba0fbb489db48df9bcf7737c8b99435c4df6\n",
      "e2f501a01ad527f38b6f33cf550cd5b03ecc8413f6d28177bf9f0a1377a262ca\n",
      "7bdbbad065fa637e2819ac32567529f1066196989ac5a208360359bf936c2c7f\n",
      "5a9b203290ac4110676c1190a274c2aadd9cf87e5bb9907929d88a735a1ec8d0\n",
      "7a4d4c4c71724cec02c270e3c4293efb9ae971ab43ae365246ef861af281ac69\n",
      "0bfaf40726e4d32c457cd15fe08235bad91ea94b320c35b79e52f144c8e9a95b\n",
      "84834fc4de0c1700f066064742ba123635763c33cb70b161c5ea6c3621039c71\n",
      "672a98555bd7e8ae0e1b7bfbe9da2d867d81812ac2c1f363dd1a6f079f90e432\n",
      "59bf55c17c2bfc289e784fe74874553296e81f900bf45f262e228a82f2358857\n",
      "3f18789e5146c426ca83cc10137472ed7f31afdd6574659d621aa1ad0774dff9\n",
      "0314d5004ce12b34eba6f665dd7d4595701c21f2981f040d8cc43f3b393c7a50\n",
      "ab64952b255b8b9234678c92c863b7f812e4069566cfd5ddc7ac5e047f8e23d1\n",
      "4ed7029372fe774a645e40c47907ed43f5a33b96a1967da8326d4fd8f8afd4d6\n",
      "669919193d23f40abdb1a394bd5101bcdd0e55f82f18a3b67e76b5976de08110\n",
      "713b46545a34e97be501d30d23b3d21ebbbb9624306de6875dadb39626c44187\n",
      "c33d8dca5d1df6ab3fd980b21924f9e8c02814ab33a6382352c42722d1b3467d\n",
      "f45ca5ace127c7e1b7ae33d7324f9dc5a3fd10f2462ca2b1945fa4257a8d9d43\n",
      "e7385ed64a24a952113f809b0f8558ef3fa83fe627d25c47122a6e1e3d23dcd0\n",
      "2836f6c0383bd38b803f2af29c4410d5693348025150dfdb5afc7faa2c1c7802\n",
      "f3bc62317605c8212fcabb69c8c0494b6bcddb528e2809fd2ffd901de2f53669\n",
      "d6eb4c600c136254cd75290181c88bbf7e7cb3d356cd9a2ac5130e532153f93a\n",
      "4ccd2926dbd62be32aa488978750ff76913bc416c52722d826181c54a07601c5\n",
      "2116e81e36b08be6dbf78d0f51e1675ecb06fdec24806a2ba83332f7f3aa4caa\n",
      "40df41a7b0a1f6b36136c256bfd3b89e116b26fa604a68394945e5ad79ce09c6\n",
      "25d18303824406a437bd8447d6ac7ae48edad71dc50670f3c89be197d6cc7e8b\n",
      "fa4a2378f5e89ceeb320291cb6271bbb153d0250616a3d6e561f0ba2fdf39b9a\n",
      "535dafb4fad5d92b2cfe5f4e63471105915dd02ff94104d404aeafc9ac011171\n",
      "900b68a070ef82cc2e2f6181110ee892de2ad0326da5a3ece9b9547a778b2448\n",
      "62cbadec9cb50c186d2335f2630235b3d1b06b66443dc8d14a7246033a77c4d5\n",
      "662ddb8bf5940e85405a2595f1b3a64e5b89d918ea602b126bf3ea0c8516f0b4\n",
      "b310e585304199d302862653fb5fa96aefb7e2014e5eb9f38498b5863714c06f\n",
      "c9fabed30bbd3446637272c756fcf992a0f478446949ec0b99011dec4ee7787f\n",
      "84132cd92de152a374d3fcb14f89e884413ea6dbaf57dc8259e9838486f0d770\n",
      "efc7a8fe264d43ad321895923fdc338c2d3b35912071ec20ac154bba7b976d08\n",
      "b64df6880f9a22ba73a5bcf466702f5dad234eb627987e8a954d780e61c05032\n",
      "d4d277064aa0c015388d7a3da50e1b24ec44af37c11ad5bbcb0ea1ace74044d0\n",
      "b8be73c0658b8a9552e546c761170254cc23dea256cc648b1540320b53f45ec0\n",
      "06aa01281b307736c7c982beaa14c076e853a0bcadeefddcf472a5b7fda0a0e3\n",
      "0320f49a480acbdb9ba753317263ae0572800368fe22fa27e6d80071ef8016a3\n",
      "78e594bfe805f5d95779c4b9e407932017c4f807ae7861450d6b581d3384fe9f\n",
      "bf8a2980d01d9aa489254b45fe37264ddf82600ea465e85e3821b11ee3877dab\n",
      "b1fa9bb887afd9337287b7045a572f4eb9ac72d0dd18cf669f08cd62238b1a9c\n",
      "b793385eab738510653575e55a61aa3eeb631bb4d838eafac5e0406e5675e0ed\n",
      "867f9d1e4ad0c7cda6e0a208cbd5e0ac6aff768a35acce253ce100256b976f4a\n",
      "cea067812c7f047fcc5fc17f3fea804ce16b53d366f4c5e9aa0b0c84a46f0a41\n",
      "4070f1cf55437b9256194509a6ef80422b3036b1366639acb5d8a6d855bc55db\n",
      "eabb427fff69de9351c9458e871d898437f3bc265572f25a00b9dcb1357eeb32\n",
      "13ebf76377e01d8c2d8d0ecf33915051a996f8adaf19e6272cebd72f4eeaa360\n",
      "0018631051a8f7234d97c4fc59af81936d8184e8d7e5a70b59a2297ca9e740fc\n",
      "The nonce is:  97\n"
     ]
    }
   ],
   "source": [
    "nonce = 0\n",
    "while not target(tx):\n",
    "    nonce += 1\n",
    "print(\"The nonce is: \", nonce)"
   ]
  },
  {
   "cell_type": "code",
   "execution_count": null,
   "id": "short-diagram",
   "metadata": {},
   "outputs": [],
   "source": []
  }
 ],
 "metadata": {
  "kernelspec": {
   "display_name": "Python 3",
   "language": "python",
   "name": "python3"
  },
  "language_info": {
   "codemirror_mode": {
    "name": "ipython",
    "version": 3
   },
   "file_extension": ".py",
   "mimetype": "text/x-python",
   "name": "python",
   "nbconvert_exporter": "python",
   "pygments_lexer": "ipython3",
   "version": "3.9.1"
  }
 },
 "nbformat": 4,
 "nbformat_minor": 5
}
